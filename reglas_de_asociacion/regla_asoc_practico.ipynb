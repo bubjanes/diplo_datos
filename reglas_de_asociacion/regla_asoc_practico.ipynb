{
 "cells": [
  {
   "cell_type": "code",
   "execution_count": 1,
   "metadata": {},
   "outputs": [],
   "source": [
    "import pandas as pd\n",
    "import numpy as np\n",
    "from scipy import sparse\n",
    "from itertools import combinations, groupby\n",
    "from collections import Counter\n",
    "import sys\n",
    "from IPython.display import display\n",
    "from efficient_apriori import apriori"
   ]
  },
  {
   "cell_type": "code",
   "execution_count": 2,
   "metadata": {},
   "outputs": [],
   "source": [
    "def size(obj):\n",
    "    return \"{0:.2f} MB\".format(sys.getsizeof(obj) / (1000 * 1000))"
   ]
  },
  {
   "cell_type": "code",
   "execution_count": 3,
   "metadata": {},
   "outputs": [
    {
     "name": "stdout",
     "output_type": "stream",
     "text": [
      "ratings -- dimensions: (100836, 4);   size: 3.23 MB\n"
     ]
    }
   ],
   "source": [
    "movies = pd.read_csv('ml-latest-small/movies.csv')\n",
    "ratings = pd.read_csv('ml-latest-small/ratings.csv')\n",
    "# es muy pesado trabajar con toda la base...\n",
    "#orders = pd.read_csv('instacart_2017_05_01/order_products__prior.csv')\n",
    "print('ratings -- dimensions: {0};   size: {1}'.format(ratings.shape, size(ratings)))"
   ]
  },
  {
   "cell_type": "code",
   "execution_count": 4,
   "metadata": {
    "scrolled": true
   },
   "outputs": [
    {
     "data": {
      "text/plain": [
       "array([[1, 'Toy Story (1995)'],\n",
       "       [1, 'Psycho (1998)'],\n",
       "       [1, 'Rushmore (1998)'],\n",
       "       ...,\n",
       "       [610, 'Coraline (2009)'],\n",
       "       [610, 'Serious Man, A (2009)'],\n",
       "       [610, '31 (2016)']], dtype=object)"
      ]
     },
     "execution_count": 4,
     "metadata": {},
     "output_type": "execute_result"
    }
   ],
   "source": [
    "ratings = pd.read_csv('ml-latest-small/ratings.csv')\n",
    "movie_names = pd.read_csv('ml-latest-small/movies.csv')\n",
    "movie_ratings_df = pd.merge(ratings[['userId','movieId']], movies[['movieId','title']] ,on='movieId', how= \"inner\")\n",
    "movie_ratings_df = movie_ratings_df.sort_values(by='userId', axis=0, ascending=True, inplace=False, kind='quicksort', na_position='last')\n",
    "movie_ratings = movie_ratings_df.values[:,[0,2]]\n",
    "movie_ratings # here is our array"
   ]
  },
  {
   "cell_type": "code",
   "execution_count": 5,
   "metadata": {},
   "outputs": [
    {
     "data": {
      "text/html": [
       "<div>\n",
       "<style scoped>\n",
       "    .dataframe tbody tr th:only-of-type {\n",
       "        vertical-align: middle;\n",
       "    }\n",
       "\n",
       "    .dataframe tbody tr th {\n",
       "        vertical-align: top;\n",
       "    }\n",
       "\n",
       "    .dataframe thead th {\n",
       "        text-align: right;\n",
       "    }\n",
       "</style>\n",
       "<table border=\"1\" class=\"dataframe\">\n",
       "  <thead>\n",
       "    <tr style=\"text-align: right;\">\n",
       "      <th></th>\n",
       "      <th>userId</th>\n",
       "      <th>movieId</th>\n",
       "      <th>title</th>\n",
       "    </tr>\n",
       "  </thead>\n",
       "  <tbody>\n",
       "    <tr>\n",
       "      <th>0</th>\n",
       "      <td>1</td>\n",
       "      <td>1</td>\n",
       "      <td>Toy Story (1995)</td>\n",
       "    </tr>\n",
       "    <tr>\n",
       "      <th>12117</th>\n",
       "      <td>1</td>\n",
       "      <td>2389</td>\n",
       "      <td>Psycho (1998)</td>\n",
       "    </tr>\n",
       "    <tr>\n",
       "      <th>12126</th>\n",
       "      <td>1</td>\n",
       "      <td>2395</td>\n",
       "      <td>Rushmore (1998)</td>\n",
       "    </tr>\n",
       "    <tr>\n",
       "      <th>12182</th>\n",
       "      <td>1</td>\n",
       "      <td>2406</td>\n",
       "      <td>Romancing the Stone (1984)</td>\n",
       "    </tr>\n",
       "    <tr>\n",
       "      <th>776</th>\n",
       "      <td>1</td>\n",
       "      <td>70</td>\n",
       "      <td>From Dusk Till Dawn (1996)</td>\n",
       "    </tr>\n",
       "  </tbody>\n",
       "</table>\n",
       "</div>"
      ],
      "text/plain": [
       "       userId  movieId                       title\n",
       "0           1        1            Toy Story (1995)\n",
       "12117       1     2389               Psycho (1998)\n",
       "12126       1     2395             Rushmore (1998)\n",
       "12182       1     2406  Romancing the Stone (1984)\n",
       "776         1       70  From Dusk Till Dawn (1996)"
      ]
     },
     "execution_count": 5,
     "metadata": {},
     "output_type": "execute_result"
    }
   ],
   "source": [
    "movie_ratings_df.head()"
   ]
  },
  {
   "cell_type": "code",
   "execution_count": 30,
   "metadata": {},
   "outputs": [
    {
     "name": "stdout",
     "output_type": "stream",
     "text": [
      "610\n"
     ]
    }
   ],
   "source": [
    "#The number of different users\n",
    "print(len(movie_ratings_df.userId.unique()))"
   ]
  },
  {
   "cell_type": "code",
   "execution_count": 6,
   "metadata": {},
   "outputs": [],
   "source": [
    "# our custom generator\n",
    "def transaction_grouping(array):\n",
    "    for orders_id, order_object in groupby(array, lambda x: x[0]):\n",
    "        #yield ([item[1] for item in order_object])\n",
    "        yield tuple(item[1] for item in order_object)"
   ]
  },
  {
   "cell_type": "code",
   "execution_count": 56,
   "metadata": {},
   "outputs": [],
   "source": [
    "ratings_transactions = transaction_grouping(movie_ratings)"
   ]
  },
  {
   "cell_type": "markdown",
   "metadata": {},
   "source": [
    "## Six Hundred and Ten Users "
   ]
  },
  {
   "cell_type": "code",
   "execution_count": 57,
   "metadata": {},
   "outputs": [],
   "source": [
    "six_hundred_ten = [next(ratings_transactions),next(ratings_transactions),next(ratings_transactions),next(ratings_transactions),next(ratings_transactions),next(ratings_transactions),next(ratings_transactions),next(ratings_transactions),next(ratings_transactions),next(ratings_transactions),next(ratings_transactions),next(ratings_transactions),next(ratings_transactions),next(ratings_transactions),next(ratings_transactions),next(ratings_transactions),next(ratings_transactions),next(ratings_transactions),next(ratings_transactions),next(ratings_transactions),next(ratings_transactions),next(ratings_transactions),next(ratings_transactions),next(ratings_transactions),next(ratings_transactions),next(ratings_transactions),next(ratings_transactions),next(ratings_transactions),next(ratings_transactions),next(ratings_transactions),next(ratings_transactions),next(ratings_transactions),next(ratings_transactions),next(ratings_transactions),next(ratings_transactions),next(ratings_transactions),next(ratings_transactions),next(ratings_transactions),next(ratings_transactions),next(ratings_transactions),next(ratings_transactions),next(ratings_transactions),next(ratings_transactions),next(ratings_transactions), next(ratings_transactions),next(ratings_transactions),next(ratings_transactions),next(ratings_transactions),next(ratings_transactions),next(ratings_transactions),next(ratings_transactions),next(ratings_transactions),next(ratings_transactions),next(ratings_transactions),next(ratings_transactions),next(ratings_transactions),next(ratings_transactions),next(ratings_transactions),next(ratings_transactions),next(ratings_transactions),next(ratings_transactions),next(ratings_transactions),next(ratings_transactions),next(ratings_transactions),next(ratings_transactions),next(ratings_transactions),next(ratings_transactions),next(ratings_transactions),next(ratings_transactions),next(ratings_transactions),next(ratings_transactions),next(ratings_transactions),next(ratings_transactions),next(ratings_transactions),next(ratings_transactions),next(ratings_transactions),next(ratings_transactions),next(ratings_transactions),next(ratings_transactions),next(ratings_transactions),next(ratings_transactions),next(ratings_transactions),next(ratings_transactions),next(ratings_transactions),next(ratings_transactions),next(ratings_transactions),next(ratings_transactions),next(ratings_transactions),next(ratings_transactions),next(ratings_transactions),next(ratings_transactions),next(ratings_transactions),next(ratings_transactions),next(ratings_transactions),next(ratings_transactions),next(ratings_transactions),next(ratings_transactions),next(ratings_transactions),next(ratings_transactions),next(ratings_transactions),next(ratings_transactions),next(ratings_transactions),next(ratings_transactions),next(ratings_transactions),next(ratings_transactions),next(ratings_transactions),next(ratings_transactions),next(ratings_transactions),next(ratings_transactions),next(ratings_transactions),next(ratings_transactions),next(ratings_transactions),next(ratings_transactions),next(ratings_transactions),next(ratings_transactions),next(ratings_transactions),next(ratings_transactions),next(ratings_transactions),next(ratings_transactions),next(ratings_transactions),next(ratings_transactions),next(ratings_transactions),next(ratings_transactions),next(ratings_transactions),next(ratings_transactions),next(ratings_transactions),next(ratings_transactions),next(ratings_transactions),next(ratings_transactions),next(ratings_transactions),next(ratings_transactions),next(ratings_transactions),next(ratings_transactions),next(ratings_transactions),next(ratings_transactions),next(ratings_transactions),next(ratings_transactions),next(ratings_transactions),next(ratings_transactions),next(ratings_transactions),next(ratings_transactions),next(ratings_transactions),next(ratings_transactions),next(ratings_transactions), next(ratings_transactions),next(ratings_transactions),next(ratings_transactions),next(ratings_transactions),next(ratings_transactions),next(ratings_transactions),next(ratings_transactions),next(ratings_transactions),next(ratings_transactions),next(ratings_transactions),next(ratings_transactions),next(ratings_transactions),next(ratings_transactions),next(ratings_transactions),next(ratings_transactions),next(ratings_transactions),next(ratings_transactions),next(ratings_transactions),next(ratings_transactions),next(ratings_transactions),next(ratings_transactions),next(ratings_transactions),next(ratings_transactions),next(ratings_transactions),next(ratings_transactions),next(ratings_transactions),next(ratings_transactions),next(ratings_transactions),next(ratings_transactions),next(ratings_transactions),next(ratings_transactions),next(ratings_transactions),next(ratings_transactions),next(ratings_transactions),next(ratings_transactions),next(ratings_transactions),next(ratings_transactions),next(ratings_transactions),next(ratings_transactions),next(ratings_transactions),next(ratings_transactions),next(ratings_transactions),next(ratings_transactions),next(ratings_transactions),next(ratings_transactions),next(ratings_transactions),next(ratings_transactions),next(ratings_transactions),next(ratings_transactions),next(ratings_transactions),next(ratings_transactions),next(ratings_transactions),next(ratings_transactions),next(ratings_transactions),next(ratings_transactions),next(ratings_transactions),next(ratings_transactions),next(ratings_transactions),next(ratings_transactions),next(ratings_transactions),next(ratings_transactions),next(ratings_transactions),next(ratings_transactions),next(ratings_transactions),next(ratings_transactions),next(ratings_transactions),next(ratings_transactions),next(ratings_transactions),next(ratings_transactions),next(ratings_transactions),next(ratings_transactions),next(ratings_transactions),next(ratings_transactions),next(ratings_transactions),next(ratings_transactions),next(ratings_transactions),next(ratings_transactions),next(ratings_transactions),next(ratings_transactions),next(ratings_transactions),next(ratings_transactions),next(ratings_transactions),next(ratings_transactions),next(ratings_transactions),next(ratings_transactions),next(ratings_transactions),next(ratings_transactions),next(ratings_transactions),next(ratings_transactions),next(ratings_transactions),next(ratings_transactions),next(ratings_transactions),next(ratings_transactions),next(ratings_transactions),next(ratings_transactions),next(ratings_transactions),next(ratings_transactions),next(ratings_transactions),next(ratings_transactions),next(ratings_transactions), next(ratings_transactions),next(ratings_transactions),next(ratings_transactions),next(ratings_transactions),next(ratings_transactions),next(ratings_transactions),next(ratings_transactions),next(ratings_transactions),next(ratings_transactions),next(ratings_transactions),next(ratings_transactions),next(ratings_transactions),next(ratings_transactions),next(ratings_transactions),next(ratings_transactions),next(ratings_transactions),next(ratings_transactions),next(ratings_transactions),next(ratings_transactions),next(ratings_transactions),next(ratings_transactions),next(ratings_transactions),next(ratings_transactions),next(ratings_transactions),next(ratings_transactions),next(ratings_transactions),next(ratings_transactions),next(ratings_transactions),next(ratings_transactions),next(ratings_transactions),next(ratings_transactions),next(ratings_transactions),next(ratings_transactions),next(ratings_transactions),next(ratings_transactions),next(ratings_transactions),next(ratings_transactions),next(ratings_transactions),next(ratings_transactions),next(ratings_transactions),next(ratings_transactions),next(ratings_transactions),next(ratings_transactions),next(ratings_transactions),next(ratings_transactions),next(ratings_transactions),next(ratings_transactions),next(ratings_transactions),next(ratings_transactions),next(ratings_transactions),next(ratings_transactions),next(ratings_transactions),next(ratings_transactions),next(ratings_transactions),next(ratings_transactions),next(ratings_transactions),next(ratings_transactions),next(ratings_transactions),next(ratings_transactions),next(ratings_transactions),next(ratings_transactions),next(ratings_transactions),next(ratings_transactions),next(ratings_transactions),next(ratings_transactions),next(ratings_transactions),next(ratings_transactions),next(ratings_transactions),next(ratings_transactions),next(ratings_transactions),next(ratings_transactions),next(ratings_transactions),next(ratings_transactions),next(ratings_transactions),next(ratings_transactions),next(ratings_transactions),next(ratings_transactions),next(ratings_transactions),next(ratings_transactions),next(ratings_transactions),next(ratings_transactions),next(ratings_transactions),next(ratings_transactions),next(ratings_transactions),next(ratings_transactions),next(ratings_transactions),next(ratings_transactions),next(ratings_transactions),next(ratings_transactions),next(ratings_transactions),next(ratings_transactions),next(ratings_transactions),next(ratings_transactions),next(ratings_transactions),next(ratings_transactions),next(ratings_transactions),next(ratings_transactions),next(ratings_transactions),next(ratings_transactions),next(ratings_transactions), next(ratings_transactions),next(ratings_transactions),next(ratings_transactions),next(ratings_transactions),next(ratings_transactions),next(ratings_transactions),next(ratings_transactions),next(ratings_transactions),next(ratings_transactions),next(ratings_transactions),next(ratings_transactions),next(ratings_transactions),next(ratings_transactions),next(ratings_transactions),next(ratings_transactions),next(ratings_transactions),next(ratings_transactions),next(ratings_transactions),next(ratings_transactions),next(ratings_transactions),next(ratings_transactions),next(ratings_transactions),next(ratings_transactions),next(ratings_transactions),next(ratings_transactions),next(ratings_transactions),next(ratings_transactions),next(ratings_transactions),next(ratings_transactions),next(ratings_transactions),next(ratings_transactions),next(ratings_transactions),next(ratings_transactions),next(ratings_transactions),next(ratings_transactions),next(ratings_transactions),next(ratings_transactions),next(ratings_transactions),next(ratings_transactions),next(ratings_transactions),next(ratings_transactions),next(ratings_transactions),next(ratings_transactions),next(ratings_transactions),next(ratings_transactions),next(ratings_transactions),next(ratings_transactions),next(ratings_transactions),next(ratings_transactions),next(ratings_transactions),next(ratings_transactions),next(ratings_transactions),next(ratings_transactions),next(ratings_transactions),next(ratings_transactions),next(ratings_transactions),next(ratings_transactions),next(ratings_transactions),next(ratings_transactions),next(ratings_transactions),next(ratings_transactions),next(ratings_transactions),next(ratings_transactions),next(ratings_transactions),next(ratings_transactions),next(ratings_transactions),next(ratings_transactions),next(ratings_transactions),next(ratings_transactions),next(ratings_transactions),next(ratings_transactions),next(ratings_transactions),next(ratings_transactions),next(ratings_transactions),next(ratings_transactions),next(ratings_transactions),next(ratings_transactions),next(ratings_transactions),next(ratings_transactions),next(ratings_transactions),next(ratings_transactions),next(ratings_transactions),next(ratings_transactions),next(ratings_transactions),next(ratings_transactions),next(ratings_transactions),next(ratings_transactions),next(ratings_transactions),next(ratings_transactions),next(ratings_transactions),next(ratings_transactions),next(ratings_transactions),next(ratings_transactions),next(ratings_transactions),next(ratings_transactions),next(ratings_transactions),next(ratings_transactions),next(ratings_transactions),next(ratings_transactions),next(ratings_transactions), next(ratings_transactions),next(ratings_transactions),next(ratings_transactions),next(ratings_transactions),next(ratings_transactions),next(ratings_transactions),next(ratings_transactions),next(ratings_transactions),next(ratings_transactions),next(ratings_transactions),next(ratings_transactions),next(ratings_transactions),next(ratings_transactions),next(ratings_transactions),next(ratings_transactions),next(ratings_transactions),next(ratings_transactions),next(ratings_transactions),next(ratings_transactions),next(ratings_transactions),next(ratings_transactions),next(ratings_transactions),next(ratings_transactions),next(ratings_transactions),next(ratings_transactions),next(ratings_transactions),next(ratings_transactions),next(ratings_transactions),next(ratings_transactions),next(ratings_transactions),next(ratings_transactions),next(ratings_transactions),next(ratings_transactions),next(ratings_transactions),next(ratings_transactions),next(ratings_transactions),next(ratings_transactions),next(ratings_transactions),next(ratings_transactions),next(ratings_transactions),next(ratings_transactions),next(ratings_transactions),next(ratings_transactions),next(ratings_transactions),next(ratings_transactions),next(ratings_transactions),next(ratings_transactions),next(ratings_transactions),next(ratings_transactions),next(ratings_transactions),next(ratings_transactions),next(ratings_transactions),next(ratings_transactions),next(ratings_transactions),next(ratings_transactions),next(ratings_transactions),next(ratings_transactions),next(ratings_transactions),next(ratings_transactions),next(ratings_transactions),next(ratings_transactions),next(ratings_transactions),next(ratings_transactions),next(ratings_transactions),next(ratings_transactions),next(ratings_transactions),next(ratings_transactions),next(ratings_transactions),next(ratings_transactions),next(ratings_transactions),next(ratings_transactions),next(ratings_transactions),next(ratings_transactions),next(ratings_transactions),next(ratings_transactions),next(ratings_transactions),next(ratings_transactions),next(ratings_transactions),next(ratings_transactions),next(ratings_transactions),next(ratings_transactions),next(ratings_transactions),next(ratings_transactions),next(ratings_transactions),next(ratings_transactions),next(ratings_transactions),next(ratings_transactions),next(ratings_transactions),next(ratings_transactions),next(ratings_transactions),next(ratings_transactions),next(ratings_transactions),next(ratings_transactions),next(ratings_transactions),next(ratings_transactions),next(ratings_transactions),next(ratings_transactions),next(ratings_transactions),next(ratings_transactions),next(ratings_transactions), next(ratings_transactions),next(ratings_transactions),next(ratings_transactions),next(ratings_transactions),next(ratings_transactions),next(ratings_transactions),next(ratings_transactions),next(ratings_transactions),next(ratings_transactions),next(ratings_transactions),next(ratings_transactions),next(ratings_transactions),next(ratings_transactions),next(ratings_transactions),next(ratings_transactions),next(ratings_transactions),next(ratings_transactions),next(ratings_transactions),next(ratings_transactions),next(ratings_transactions),next(ratings_transactions),next(ratings_transactions),next(ratings_transactions),next(ratings_transactions),next(ratings_transactions),next(ratings_transactions),next(ratings_transactions),next(ratings_transactions),next(ratings_transactions),next(ratings_transactions),next(ratings_transactions),next(ratings_transactions),next(ratings_transactions),next(ratings_transactions),next(ratings_transactions),next(ratings_transactions),next(ratings_transactions),next(ratings_transactions),next(ratings_transactions),next(ratings_transactions),next(ratings_transactions),next(ratings_transactions),next(ratings_transactions),next(ratings_transactions),next(ratings_transactions),next(ratings_transactions),next(ratings_transactions),next(ratings_transactions),next(ratings_transactions),next(ratings_transactions),next(ratings_transactions),next(ratings_transactions),next(ratings_transactions),next(ratings_transactions),next(ratings_transactions),next(ratings_transactions),next(ratings_transactions),next(ratings_transactions),next(ratings_transactions),next(ratings_transactions),next(ratings_transactions),next(ratings_transactions),next(ratings_transactions),next(ratings_transactions),next(ratings_transactions),next(ratings_transactions)]"
   ]
  },
  {
   "cell_type": "code",
   "execution_count": 58,
   "metadata": {},
   "outputs": [
    {
     "name": "stdout",
     "output_type": "stream",
     "text": [
      "610\n"
     ]
    }
   ],
   "source": [
    "print(len(six_hundred_ten))"
   ]
  },
  {
   "cell_type": "code",
   "execution_count": 59,
   "metadata": {},
   "outputs": [],
   "source": [
    "itemsets, rules = apriori(six_hundred_ten, min_support=0.3, min_confidence=0.1)"
   ]
  },
  {
   "cell_type": "code",
   "execution_count": 60,
   "metadata": {},
   "outputs": [
    {
     "name": "stdout",
     "output_type": "stream",
     "text": [
      "{Forrest Gump (1994)} -> {Braveheart (1995)} (conf: 0.556, supp: 0.300, lift: 1.432, conv: 1.378)\n",
      "{Forrest Gump (1994)} -> {Matrix, The (1999)} (conf: 0.590, supp: 0.318, lift: 1.294, conv: 1.326)\n",
      "{Forrest Gump (1994)} -> {Jurassic Park (1993)} (conf: 0.602, supp: 0.325, lift: 1.542, conv: 1.532)\n",
      "{Forrest Gump (1994)} -> {Silence of the Lambs, The (1991)} (conf: 0.605, supp: 0.326, lift: 1.322, conv: 1.373)\n",
      "{Shawshank Redemption, The (1994)} -> {Silence of the Lambs, The (1991)} (conf: 0.628, supp: 0.326, lift: 1.373, conv: 1.458)\n",
      "{Matrix, The (1999)} -> {Star Wars: Episode IV - A New Hope (1977)} (conf: 0.658, supp: 0.300, lift: 1.600, conv: 1.722)\n",
      "{Pulp Fiction (1994)} -> {Silence of the Lambs, The (1991)} (conf: 0.674, supp: 0.339, lift: 1.474, conv: 1.666)\n",
      "{Matrix, The (1999)} -> {Forrest Gump (1994)} (conf: 0.698, supp: 0.318, lift: 1.294, conv: 1.525)\n",
      "{Forrest Gump (1994)} -> {Pulp Fiction (1994)} (conf: 0.699, supp: 0.377, lift: 1.389, conv: 1.651)\n",
      "{Shawshank Redemption, The (1994)} -> {Pulp Fiction (1994)} (conf: 0.700, supp: 0.364, lift: 1.392, conv: 1.657)\n",
      "{Forrest Gump (1994)} -> {Shawshank Redemption, The (1994)} (conf: 0.702, supp: 0.379, lift: 1.351, conv: 1.613)\n",
      "{Silence of the Lambs, The (1991)} -> {Forrest Gump (1994)} (conf: 0.713, supp: 0.326, lift: 1.322, conv: 1.607)\n",
      "{Silence of the Lambs, The (1991)} -> {Shawshank Redemption, The (1994)} (conf: 0.713, supp: 0.326, lift: 1.373, conv: 1.675)\n",
      "{Pulp Fiction (1994)} -> {Shawshank Redemption, The (1994)} (conf: 0.723, supp: 0.364, lift: 1.392, conv: 1.735)\n",
      "{Shawshank Redemption, The (1994)} -> {Forrest Gump (1994)} (conf: 0.729, supp: 0.379, lift: 1.351, conv: 1.698)\n",
      "{Star Wars: Episode IV - A New Hope (1977)} -> {Matrix, The (1999)} (conf: 0.729, supp: 0.300, lift: 1.600, conv: 2.009)\n",
      "{Silence of the Lambs, The (1991)} -> {Pulp Fiction (1994)} (conf: 0.742, supp: 0.339, lift: 1.474, conv: 1.925)\n",
      "{Pulp Fiction (1994)} -> {Forrest Gump (1994)} (conf: 0.749, supp: 0.377, lift: 1.389, conv: 1.837)\n",
      "{Star Wars: Episode IV - A New Hope (1977)} -> {Star Wars: Episode V - The Empire Strikes Back (1980)} (conf: 0.757, supp: 0.311, lift: 2.188, conv: 2.691)\n",
      "{Braveheart (1995)} -> {Forrest Gump (1994)} (conf: 0.772, supp: 0.300, lift: 1.432, conv: 2.022)\n",
      "{Jurassic Park (1993)} -> {Forrest Gump (1994)} (conf: 0.832, supp: 0.325, lift: 1.542, conv: 2.741)\n",
      "{Star Wars: Episode V - The Empire Strikes Back (1980)} -> {Star Wars: Episode IV - A New Hope (1977)} (conf: 0.900, supp: 0.311, lift: 2.188, conv: 5.913)\n"
     ]
    }
   ],
   "source": [
    "rules=sorted(rules, key=lambda rule: rule.confidence)\n",
    "for rule in rules:\n",
    "    print(rule) # Prints the rule and its confidence, support, lift, ..."
   ]
  }
 ],
 "metadata": {
  "kernelspec": {
   "display_name": "Python 3",
   "language": "python",
   "name": "python3"
  },
  "language_info": {
   "codemirror_mode": {
    "name": "ipython",
    "version": 3
   },
   "file_extension": ".py",
   "mimetype": "text/x-python",
   "name": "python",
   "nbconvert_exporter": "python",
   "pygments_lexer": "ipython3",
   "version": "3.7.1"
  }
 },
 "nbformat": 4,
 "nbformat_minor": 2
}
